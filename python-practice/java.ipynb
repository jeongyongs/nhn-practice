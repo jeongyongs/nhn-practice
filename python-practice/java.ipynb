{
 "cells": [
  {
   "cell_type": "code",
   "execution_count": null,
   "metadata": {},
   "outputs": [],
   "source": [
    "System.out.println(\"fdsa\")"
   ]
  },
  {
   "cell_type": "code",
   "execution_count": null,
   "metadata": {},
   "outputs": [],
   "source": [
    "int[] arr = new int[] {1, 2};\n",
    "\n",
    "for (int i : arr) {\n",
    "    System.out.println(i);\n",
    "}"
   ]
  },
  {
   "cell_type": "code",
   "execution_count": null,
   "metadata": {},
   "outputs": [],
   "source": [
    "double a = 1.0;\n",
    "int b = 1;\n",
    "\n",
    "if (a == b) {\n",
    "    System.out.println(\"true\");\n",
    "}"
   ]
  },
  {
   "cell_type": "code",
   "execution_count": null,
   "metadata": {},
   "outputs": [],
   "source": [
    "b = a;"
   ]
  },
  {
   "cell_type": "code",
   "execution_count": null,
   "metadata": {},
   "outputs": [],
   "source": [
    "short c = 1;\n",
    "byte d = 1;\n",
    "\n",
    "c + d;"
   ]
  },
  {
   "cell_type": "markdown",
   "metadata": {},
   "source": [
    "1. 배열에서 요소를 하나씩 꺼낸다.\n",
    "2. 꺼낸 요소를 변환한다.\n",
    "   - 요소가 소문자면 : 65 ~ 90<br>대문자로 바꾼다 : +32\n",
    "   - 요소가 대문자면 : 97 ~ 122<br>소문자로 바꾼다 : -32"
   ]
  },
  {
   "cell_type": "code",
   "execution_count": null,
   "metadata": {},
   "outputs": [],
   "source": [
    "String s = \"aBcDeF123\";\n",
    "String result = \"\";\n",
    "\n",
    "for (char c : s.toCharArray()) {\n",
    "    if (c >= 65 && c <= 90) {\n",
    "        result += (char)(c + 32);\n",
    "        continue;\n",
    "    }\n",
    "    if (c >= 97 && c <= 122) {\n",
    "        result += (char)(c - 32);\n",
    "        continue;\n",
    "    }\n",
    "    result += c;\n",
    "}\n",
    "\n",
    "result"
   ]
  },
  {
   "cell_type": "code",
   "execution_count": null,
   "metadata": {},
   "outputs": [],
   "source": [
    "String s1 = new String(\"abc\");\n",
    "String s2 = new String(\"abc\");"
   ]
  },
  {
   "cell_type": "code",
   "execution_count": null,
   "metadata": {},
   "outputs": [],
   "source": [
    "s1.equals(s2);"
   ]
  },
  {
   "cell_type": "code",
   "execution_count": null,
   "metadata": {},
   "outputs": [],
   "source": [
    "s1 == s2"
   ]
  },
  {
   "cell_type": "code",
   "execution_count": null,
   "metadata": {},
   "outputs": [],
   "source": [
    "String s = \"0123456789\";\n",
    "for (int i = s.length() - 1; i >= 0; i--) {\n",
    "    System.out.print(s.charAt(i));\n",
    "}"
   ]
  },
  {
   "cell_type": "code",
   "execution_count": null,
   "metadata": {},
   "outputs": [],
   "source": [
    "s.substring(2, 9);"
   ]
  },
  {
   "cell_type": "code",
   "execution_count": null,
   "metadata": {},
   "outputs": [],
   "source": [
    "@FunctionalInterface\n",
    "public interface BinaryOperator {\n",
    "    int apply(int a, int b);\n",
    "}"
   ]
  },
  {
   "cell_type": "code",
   "execution_count": null,
   "metadata": {},
   "outputs": [],
   "source": [
    "BinaryOperator sum = (a, b) -> a + b;"
   ]
  },
  {
   "cell_type": "code",
   "execution_count": null,
   "metadata": {},
   "outputs": [],
   "source": [
    "int exam(BinaryOperator binaryOperator, int a, int b) {\n",
    "    return binaryOperator.apply(a, b);\n",
    "}"
   ]
  },
  {
   "cell_type": "code",
   "execution_count": null,
   "metadata": {},
   "outputs": [],
   "source": [
    "exam(sum, 10, 11);"
   ]
  },
  {
   "cell_type": "code",
   "execution_count": null,
   "metadata": {},
   "outputs": [],
   "source": [
    "exam((a, b) -> a * b, 10, 2);"
   ]
  },
  {
   "cell_type": "markdown",
   "metadata": {},
   "source": [
    "# Lambda Expression"
   ]
  },
  {
   "cell_type": "code",
   "execution_count": 9,
   "metadata": {},
   "outputs": [],
   "source": [
    "@FunctionalInterface\n",
    "public interface IntMapper {\n",
    "    int apply(int i);\n",
    "}"
   ]
  },
  {
   "cell_type": "code",
   "execution_count": 10,
   "metadata": {},
   "outputs": [],
   "source": [
    "int[] map(IntMapper mapper, int[] arr) {\n",
    "    int[] result = new int[arr.length];\n",
    "\n",
    "    for (int i = 0; i < result.length; i++) {\n",
    "        result[i] = mapper.apply(arr[i]);\n",
    "    }\n",
    "\n",
    "    return result;\n",
    "}"
   ]
  },
  {
   "cell_type": "code",
   "execution_count": 11,
   "metadata": {},
   "outputs": [],
   "source": [
    "void printArr(int[] arr) {\n",
    "    for (int i : arr) {\n",
    "        System.out.print(i + \" \");\n",
    "    }\n",
    "}"
   ]
  },
  {
   "cell_type": "code",
   "execution_count": 12,
   "metadata": {},
   "outputs": [
    {
     "name": "stdout",
     "output_type": "stream",
     "text": [
      "4 5 6 7 8 9 10 11 12 "
     ]
    }
   ],
   "source": [
    "int[] ints = {1, 2, 3, 4, 5, 6, 7, 8, 9};\n",
    "\n",
    "printArr(map(i -> i + 3, ints));"
   ]
  },
  {
   "cell_type": "code",
   "execution_count": 14,
   "metadata": {},
   "outputs": [
    {
     "name": "stdout",
     "output_type": "stream",
     "text": [
      "1 0 1 0 1 0 1 0 1 "
     ]
    }
   ],
   "source": [
    "printArr(map(i -> i % 2, ints));"
   ]
  },
  {
   "cell_type": "code",
   "execution_count": null,
   "metadata": {},
   "outputs": [],
   "source": []
  }
 ],
 "metadata": {
  "kernelspec": {
   "display_name": "Java",
   "language": "java",
   "name": "java"
  },
  "language_info": {
   "codemirror_mode": "java",
   "file_extension": ".jshell",
   "mimetype": "text/x-java-source",
   "name": "java",
   "pygments_lexer": "java",
   "version": "11.0.20.1+0"
  }
 },
 "nbformat": 4,
 "nbformat_minor": 2
}
