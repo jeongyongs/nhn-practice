{
 "cells": [
  {
   "cell_type": "markdown",
   "metadata": {},
   "source": [
    "# Recursion"
   ]
  },
  {
   "cell_type": "markdown",
   "metadata": {},
   "source": [
    "### 1. 곱 셈"
   ]
  },
  {
   "cell_type": "markdown",
   "metadata": {},
   "source": [
    "#### 1.1. iteration"
   ]
  },
  {
   "cell_type": "code",
   "execution_count": null,
   "metadata": {},
   "outputs": [],
   "source": [
    "def mul_iter(a, b):\n",
    "    result = 0\n",
    "    while b > 0:\n",
    "        result += a\n",
    "        b -= 1\n",
    "    return result\n",
    "\n",
    "mul_iter(2, 3)"
   ]
  },
  {
   "cell_type": "markdown",
   "metadata": {},
   "source": [
    "#### 1.2. recursive"
   ]
  },
  {
   "cell_type": "code",
   "execution_count": null,
   "metadata": {},
   "outputs": [],
   "source": [
    "def mul_recu(a, b):\n",
    "    # base case\n",
    "    if b == 1:\n",
    "        return a\n",
    "    return a + mul_recu(a, b - 1)\n",
    "\n",
    "mul_recu(2, 3)"
   ]
  },
  {
   "cell_type": "markdown",
   "metadata": {},
   "source": [
    "### 2. 대소문자 변경"
   ]
  },
  {
   "cell_type": "code",
   "execution_count": null,
   "metadata": {},
   "outputs": [],
   "source": [
    "def change_letter(target):\n",
    "    char = target[0]\n",
    "    ord_char = ord(char)\n",
    "\n",
    "    if ord_char in range(97, 122):\n",
    "        char = chr(ord_char - 32)\n",
    "    if ord_char in range(65, 90):\n",
    "        char = chr(ord_char + 32)\n",
    "\n",
    "    # base case\n",
    "    if len(target) == 1:\n",
    "        return char\n",
    "    return char + change_letter(target[1:])\n",
    "\n",
    "change_letter('Hello, World')"
   ]
  },
  {
   "cell_type": "markdown",
   "metadata": {},
   "source": [
    "### 3. 구구단"
   ]
  },
  {
   "cell_type": "code",
   "execution_count": null,
   "metadata": {},
   "outputs": [],
   "source": [
    "def multification(times, number = 1, current = 1):\n",
    "    # base case\n",
    "    if current > times:\n",
    "        print('│')\n",
    "        if number > 8:\n",
    "            return\n",
    "        multification(times, number + 1, 1)\n",
    "        return\n",
    "    \n",
    "    print('│ {:^3} x {:^3} = {:^3} '.format(current, number, current * number), end='')\n",
    "    multification(times, number, current + 1)\n",
    "\n",
    "multification(9)"
   ]
  },
  {
   "cell_type": "markdown",
   "metadata": {},
   "source": [
    "### 4. 소 수"
   ]
  },
  {
   "cell_type": "code",
   "execution_count": null,
   "metadata": {},
   "outputs": [],
   "source": [
    "def is_prime(num, div = 2):\n",
    "    # base case\n",
    "    if div >= num:\n",
    "        return True\n",
    "    if num % div == 0:\n",
    "        return False\n",
    "    \n",
    "    return is_prime(num, div + 1)\n",
    "    \n",
    "is_prime(7)"
   ]
  },
  {
   "cell_type": "markdown",
   "metadata": {},
   "source": [
    "### 5. 팩토리얼"
   ]
  },
  {
   "cell_type": "code",
   "execution_count": null,
   "metadata": {},
   "outputs": [],
   "source": [
    "def factorial(n):\n",
    "    # base case\n",
    "    if n == 2:\n",
    "        return 2\n",
    "    \n",
    "    return n * factorial(n - 1)\n",
    "\n",
    "factorial(5)"
   ]
  },
  {
   "cell_type": "markdown",
   "metadata": {},
   "source": [
    "### 6. 피보나치수열"
   ]
  },
  {
   "cell_type": "markdown",
   "metadata": {},
   "source": [
    "#### 6.1. recursive"
   ]
  },
  {
   "cell_type": "code",
   "execution_count": 20,
   "metadata": {},
   "outputs": [
    {
     "data": {
      "text/plain": [
       "102334155"
      ]
     },
     "execution_count": 20,
     "metadata": {},
     "output_type": "execute_result"
    }
   ],
   "source": [
    "def fibonacci(n):\n",
    "    # base case\n",
    "    if n < 1:\n",
    "        return None\n",
    "    if n == 1:\n",
    "        return 1\n",
    "    if n == 2:\n",
    "        return 1\n",
    "    return fibonacci(n - 1) + fibonacci(n - 2)\n",
    "\n",
    "fibonacci(40)"
   ]
  },
  {
   "cell_type": "markdown",
   "metadata": {},
   "source": [
    "#### 6.2. iteration"
   ]
  },
  {
   "cell_type": "code",
   "execution_count": 56,
   "metadata": {},
   "outputs": [
    {
     "data": {
      "text/plain": [
       "1512714957886348605280222624574792321154075610626914093285524001279917220973240606381546855808399766922436786867077932515092859168320774869290543573214973988811551430710496378539280134724442752856791574659068569743923307115496998315294101735638681555443966833458219814323515443330857265109176823157925422603874604947448798010455562840615475335214605407075581541305170833439333939904924438253162123489848521081459268004124375630934201752573791208486432428927311602789747262328203624065366050893216503362403361071904548905736411967666387345601923144654086109692748403040534098102614513078787128483390340029202626856647692607"
      ]
     },
     "execution_count": 56,
     "metadata": {},
     "output_type": "execute_result"
    }
   ],
   "source": [
    "def fibonacci_iter(n):\n",
    "    result = 1\n",
    "    prev = 0\n",
    "\n",
    "    if n < 1:\n",
    "        return None\n",
    "        \n",
    "    for i in range(n - 1):\n",
    "        temp = result\n",
    "        result += prev\n",
    "        prev = temp\n",
    "        \n",
    "    return result\n",
    "\n",
    "fibonacci_iter(2974)"
   ]
  },
  {
   "cell_type": "code",
   "execution_count": 8,
   "metadata": {},
   "outputs": [
    {
     "data": {
      "text/plain": [
       "'A+'"
      ]
     },
     "execution_count": 8,
     "metadata": {},
     "output_type": "execute_result"
    }
   ],
   "source": [
    "grades = {'Lee':'A+', 'Nam':'F'}\n",
    "grades['Lee']"
   ]
  },
  {
   "cell_type": "code",
   "execution_count": 13,
   "metadata": {},
   "outputs": [
    {
     "data": {
      "text/plain": [
       "['Lee', 'Nam']"
      ]
     },
     "execution_count": 13,
     "metadata": {},
     "output_type": "execute_result"
    }
   ],
   "source": [
    "list(grades.keys())"
   ]
  },
  {
   "cell_type": "code",
   "execution_count": 55,
   "metadata": {},
   "outputs": [
    {
     "data": {
      "text/plain": [
       "1512714957886348605280222624574792321154075610626914093285524001279917220973240606381546855808399766922436786867077932515092859168320774869290543573214973988811551430710496378539280134724442752856791574659068569743923307115496998315294101735638681555443966833458219814323515443330857265109176823157925422603874604947448798010455562840615475335214605407075581541305170833439333939904924438253162123489848521081459268004124375630934201752573791208486432428927311602789747262328203624065366050893216503362403361071904548905736411967666387345601923144654086109692748403040534098102614513078787128483390340029202626856647692607"
      ]
     },
     "execution_count": 55,
     "metadata": {},
     "output_type": "execute_result"
    }
   ],
   "source": [
    "def fib_e(n, d = None):\n",
    "    if d == None:\n",
    "        d = {1:1, 2:1}\n",
    "    if n in d:\n",
    "        return d[n]\n",
    "    else:\n",
    "        ans = fib_e(n - 1, d) + fib_e(n - 2, d)\n",
    "        d[n] = ans\n",
    "        return ans\n",
    "    \n",
    "fib_e(2974)"
   ]
  },
  {
   "cell_type": "code",
   "execution_count": null,
   "metadata": {},
   "outputs": [],
   "source": []
  }
 ],
 "metadata": {
  "kernelspec": {
   "display_name": "base",
   "language": "python",
   "name": "python3"
  },
  "language_info": {
   "codemirror_mode": {
    "name": "ipython",
    "version": 3
   },
   "file_extension": ".py",
   "mimetype": "text/x-python",
   "name": "python",
   "nbconvert_exporter": "python",
   "pygments_lexer": "ipython3",
   "version": "3.11.5"
  }
 },
 "nbformat": 4,
 "nbformat_minor": 2
}
