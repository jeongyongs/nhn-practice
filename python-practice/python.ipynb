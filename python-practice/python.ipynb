{
 "cells": [
  {
   "cell_type": "code",
   "execution_count": null,
   "metadata": {},
   "outputs": [],
   "source": [
    "string = input(\"입 력: \") * 5\n",
    "string"
   ]
  },
  {
   "cell_type": "code",
   "execution_count": null,
   "metadata": {},
   "outputs": [],
   "source": [
    "number = int(input(\"입 력: \")) * 5\n",
    "number"
   ]
  },
  {
   "cell_type": "code",
   "execution_count": null,
   "metadata": {},
   "outputs": [],
   "source": [
    "working_time = 10\n",
    "sleeping_time = 15\n",
    "working_time > sleeping_time"
   ]
  },
  {
   "cell_type": "code",
   "execution_count": null,
   "metadata": {},
   "outputs": [],
   "source": [
    "condition_a = True\n",
    "condition_b = False\n",
    "condition_a or condition_b"
   ]
  },
  {
   "cell_type": "markdown",
   "metadata": {},
   "source": [
    "1. 배열에서 요소를 하나씩 꺼낸다.\n",
    "2. 꺼낸 요소를 변환한다.\n",
    "   - 요소가 소문자면 : 65 ~ 90<br>대문자로 바꾼다 : +32\n",
    "   - 요소가 대문자면 : 97 ~ 122<br>소문자로 바꾼다 : -32"
   ]
  },
  {
   "cell_type": "code",
   "execution_count": null,
   "metadata": {},
   "outputs": [],
   "source": [
    "s = 'aBcDeF123'\n",
    "result = ''\n",
    "\n",
    "for c in s:\n",
    "    n = ord(c)\n",
    "    if n >= 65 and n <= 90:\n",
    "        result += chr(n + 32)\n",
    "        continue\n",
    "    if n >= 97 and n <= 122:\n",
    "        result += chr(n - 32)\n",
    "        continue\n",
    "    result += chr(n)\n",
    "\n",
    "result"
   ]
  },
  {
   "cell_type": "code",
   "execution_count": null,
   "metadata": {},
   "outputs": [],
   "source": [
    "i = 2\n",
    "while i <= 9:\n",
    "    j = 1\n",
    "    while j <= 9:\n",
    "        print(i, ' * ', j, ' = ', i * j)\n",
    "        j += 1\n",
    "    i += 1\n",
    "    print()"
   ]
  },
  {
   "cell_type": "code",
   "execution_count": null,
   "metadata": {},
   "outputs": [],
   "source": [
    "for i in range(2, 9):\n",
    "    for j in range(1, 9):\n",
    "        print(i, ' * ', j, ' = ', i * j)\n",
    "    print()"
   ]
  },
  {
   "cell_type": "code",
   "execution_count": null,
   "metadata": {},
   "outputs": [],
   "source": [
    "s = \"abcdefghijklmnopqrstuvwxyz\""
   ]
  },
  {
   "cell_type": "code",
   "execution_count": null,
   "metadata": {},
   "outputs": [],
   "source": [
    "s[::-1]"
   ]
  },
  {
   "cell_type": "code",
   "execution_count": null,
   "metadata": {},
   "outputs": [],
   "source": [
    "for cube in range(100000):\n",
    "    for guess in range(cube + 1):\n",
    "        if guess ** 3 == cube:\n",
    "            print(guess, \"^ 3 =\", cube)"
   ]
  },
  {
   "cell_type": "code",
   "execution_count": null,
   "metadata": {},
   "outputs": [],
   "source": [
    "# 목표치\n",
    "cube = 100\n",
    "# 오차 범위\n",
    "epsilon = 0.0001\n",
    "# 예상 결과값\n",
    "guess = 0.0\n",
    "# 정밀도\n",
    "increament = 0.000001\n",
    "# 예상 횟수\n",
    "num_guesses = 0\n",
    "\n",
    "while abs(guess ** 3 - cube) >= epsilon and guess <= cube:\n",
    "    guess += increament\n",
    "    num_guesses += 1\n",
    "\n",
    "print(num_guesses)\n",
    "print(guess)"
   ]
  },
  {
   "cell_type": "code",
   "execution_count": null,
   "metadata": {},
   "outputs": [],
   "source": [
    "# 목표치\n",
    "cube = 999999999999\n",
    "# 오차 범위\n",
    "epsilon = 0.001\n",
    "# 범위\n",
    "low = 0\n",
    "high = cube\n",
    "# 예상 결과값\n",
    "guess = cube / 2\n",
    "# 예상 횟수\n",
    "num_guesses = 0\n",
    "\n",
    "while abs(guess ** 3 - cube) >= epsilon:\n",
    "    if guess ** 3 < cube:\n",
    "        low = guess\n",
    "    if guess ** 3 >= cube:\n",
    "        high = guess\n",
    "    guess = (high + low) / 2\n",
    "    num_guesses += 1\n",
    "\n",
    "print(num_guesses)\n",
    "print(guess)"
   ]
  },
  {
   "cell_type": "code",
   "execution_count": null,
   "metadata": {},
   "outputs": [],
   "source": [
    "237.83605636810353 ** 3.0"
   ]
  },
  {
   "cell_type": "code",
   "execution_count": null,
   "metadata": {},
   "outputs": [],
   "source": [
    "nums = [0,1,2,3,4,5,6,7,8,9]\n",
    "target = 10\n",
    "high = len(nums) - 1\n",
    "low = 0\n",
    "guess = (high + low) // 2\n",
    "num_guesses = 0\n",
    "\n",
    "while 1:\n",
    "    num_guesses += 1\n",
    "    if nums[guess] == target:\n",
    "        break\n",
    "    if nums[guess] > target:\n",
    "        if guess == 0:\n",
    "            break\n",
    "        if nums[guess - 1] <= target:\n",
    "            break\n",
    "        high = guess\n",
    "        guess = (high + low) // 2\n",
    "    if nums[guess] < target:\n",
    "        if nums[guess + 1] >= target:\n",
    "            guess += 1\n",
    "            break\n",
    "        if guess - 1 < low:\n",
    "            guess += 2\n",
    "            break\n",
    "        low = guess\n",
    "        guess = (high + low) // 2\n",
    "\n",
    "nums.insert(guess, target)\n",
    "print(num_guesses)\n",
    "print(nums)"
   ]
  },
  {
   "cell_type": "code",
   "execution_count": null,
   "metadata": {},
   "outputs": [],
   "source": [
    "s = 'aBcDeF123'\n",
    "result = ''\n",
    "\n",
    "for c in s:\n",
    "    n = ord(c)\n",
    "    if n >= 65 and n <= 90:\n",
    "        result += chr(n + 32)\n",
    "        continue\n",
    "    if n >= 97 and n <= 122:\n",
    "        result += chr(n - 32)\n",
    "        continue\n",
    "    result += chr(n)\n",
    "\n",
    "result"
   ]
  },
  {
   "cell_type": "code",
   "execution_count": null,
   "metadata": {},
   "outputs": [],
   "source": [
    "def change_letters(target):\n",
    "    \"\"\"\n",
    "    전달 받은 문자열을 대소문자로 변환합니다. (예: AbC -> aBc)\n",
    "    입 력: 변환할 문자열\n",
    "    출 력: 대소문자가 각각 변환된 문자열\n",
    "    \"\"\"\n",
    "    result = ''\n",
    "    for c in target:\n",
    "        n = ord(c)\n",
    "        if n >= 65 and n <= 90:\n",
    "            result += chr(n + 32)\n",
    "            continue\n",
    "        if n >= 97 and n <= 122:\n",
    "            result += chr(n - 32)\n",
    "            continue\n",
    "        result += chr(n)\n",
    "    return result"
   ]
  },
  {
   "cell_type": "code",
   "execution_count": null,
   "metadata": {},
   "outputs": [],
   "source": [
    "result = change_letters(\"aBCd\")\n",
    "result"
   ]
  },
  {
   "cell_type": "code",
   "execution_count": null,
   "metadata": {},
   "outputs": [],
   "source": [
    "for i in range(2, 9):\n",
    "    for j in range(1, 9):\n",
    "        print(i, ' * ', j, ' = ', i * j)\n",
    "    print()"
   ]
  },
  {
   "cell_type": "code",
   "execution_count": null,
   "metadata": {},
   "outputs": [],
   "source": [
    "def multification(time):\n",
    "    \"\"\"\n",
    "    전달 받은 값에 해당하는 단의 구구단을 출력합니다.\n",
    "    입 력: 구구단의 단 (예: 2: 2단, 3: 3단)\n",
    "    \"\"\"\n",
    "    for i in range(1, 10):\n",
    "        print(time, ' * ', i, ' = ', time * i)"
   ]
  },
  {
   "cell_type": "code",
   "execution_count": null,
   "metadata": {},
   "outputs": [],
   "source": [
    "multification(4)"
   ]
  },
  {
   "cell_type": "code",
   "execution_count": null,
   "metadata": {},
   "outputs": [],
   "source": [
    "def isPrime(number):\n",
    "    for i in range(2, number):\n",
    "        if number % i == 0:\n",
    "            return False\n",
    "    return True\n",
    "\n",
    "isPrime(10)"
   ]
  },
  {
   "cell_type": "code",
   "execution_count": null,
   "metadata": {},
   "outputs": [],
   "source": [
    "def getPrimesInRange(start, end):\n",
    "    if start == 1:\n",
    "        start = 2\n",
    "    for i in range(start, end):\n",
    "        if (isPrime(i)):\n",
    "            print(i)\n",
    "\n",
    "getPrimesInRange(1, 100000)"
   ]
  },
  {
   "cell_type": "code",
   "execution_count": null,
   "metadata": {},
   "outputs": [],
   "source": [
    "def getPrimeFactors(number):\n",
    "    factors = []\n",
    "    for i in range(2, number):\n",
    "        if number % i == 0:\n",
    "            factors.append(i)\n",
    "            number = number // i\n",
    "    return tuple(factors)"
   ]
  },
  {
   "cell_type": "code",
   "execution_count": null,
   "metadata": {},
   "outputs": [],
   "source": [
    "getPrimeFactors(1000)"
   ]
  },
  {
   "cell_type": "code",
   "execution_count": null,
   "metadata": {},
   "outputs": [],
   "source": [
    "def exam(a, b, c):\n",
    "    return a(b, c)\n",
    "\n",
    "def sum(a, b):\n",
    "    return a + b\n",
    "\n",
    "def mul(a, b):\n",
    "    return a * b\n",
    "\n",
    "exam(mul, 10, 15)"
   ]
  },
  {
   "cell_type": "code",
   "execution_count": null,
   "metadata": {},
   "outputs": [],
   "source": [
    "add = lambda a, b: a + b"
   ]
  },
  {
   "cell_type": "code",
   "execution_count": null,
   "metadata": {},
   "outputs": [],
   "source": [
    "exam(add, 10 ,15)"
   ]
  },
  {
   "cell_type": "code",
   "execution_count": null,
   "metadata": {},
   "outputs": [],
   "source": [
    "test = lambda a, b, c: a(b, c)"
   ]
  },
  {
   "cell_type": "code",
   "execution_count": null,
   "metadata": {},
   "outputs": [],
   "source": [
    "test(lambda a, b: a + b, 10, 20)"
   ]
  },
  {
   "cell_type": "code",
   "execution_count": null,
   "metadata": {},
   "outputs": [],
   "source": [
    "ints = list(range(1, 10))\n",
    "ints"
   ]
  },
  {
   "cell_type": "code",
   "execution_count": null,
   "metadata": {},
   "outputs": [],
   "source": [
    "def map(mapper, target):\n",
    "    result = []\n",
    "    for e in target:\n",
    "        result.append(mapper(e))\n",
    "    return tuple(result)"
   ]
  },
  {
   "cell_type": "code",
   "execution_count": null,
   "metadata": {},
   "outputs": [],
   "source": [
    "toString = lambda e: str(e)\n",
    "result = map(toString, ints)\n",
    "result"
   ]
  },
  {
   "cell_type": "code",
   "execution_count": null,
   "metadata": {},
   "outputs": [],
   "source": [
    "def search(list, target):\n",
    "    count = 0\n",
    "    start = 0\n",
    "    end = len(list)\n",
    "    current = (start + end) // 2\n",
    "\n",
    "    if target < list[0]:\n",
    "        return 1, False\n",
    "    if target > list[-1]:\n",
    "        return 1, False\n",
    "\n",
    "    while 1:\n",
    "        count += 1\n",
    "        if list[current] == target:\n",
    "            return count, True\n",
    "        if end - start == 1 and target != list[end]:\n",
    "            return count, False\n",
    "        if list[current] > target:\n",
    "            end = current\n",
    "        if list[current] < target:\n",
    "            start = current\n",
    "        current = (start + end) // 2"
   ]
  },
  {
   "cell_type": "code",
   "execution_count": null,
   "metadata": {},
   "outputs": [],
   "source": [
    "search(list(range(1000)), 999)"
   ]
  },
  {
   "cell_type": "code",
   "execution_count": null,
   "metadata": {},
   "outputs": [],
   "source": [
    "\"{} {}\".format(1, 2)"
   ]
  },
  {
   "cell_type": "markdown",
   "metadata": {},
   "source": [
    "# 18일 숙제"
   ]
  },
  {
   "cell_type": "code",
   "execution_count": null,
   "metadata": {},
   "outputs": [],
   "source": [
    "import random\n",
    "\n",
    "s = 'abcdefghijklmnopqrstuvwxyz'\n",
    "\n",
    "list = []\n",
    "\n",
    "for i in range(1, 10000):\n",
    "    list.append((i, ''.join(random.sample(s, len(s)))))\n",
    "\n",
    "print(list)"
   ]
  },
  {
   "cell_type": "code",
   "execution_count": null,
   "metadata": {},
   "outputs": [],
   "source": [
    "def search(target, list):\n",
    "    list.sort(key = lambda x: x[1])\n",
    "    count = 0\n",
    "    start = 0\n",
    "    end = len(list)\n",
    "    current = (start + end) // 2\n",
    "\n",
    "    if target < list[0][1]:\n",
    "        return 1, \"Not Found\"\n",
    "    if target > list[-1][1]:\n",
    "        return 1, \"Not Found\"\n",
    "\n",
    "    while 1:\n",
    "        count += 1\n",
    "        if list[current][1] == target:\n",
    "            return count, list[current]\n",
    "        if end - start == 1 and target != list[end]:\n",
    "            return count, \"Not Found\"\n",
    "        if list[current][1] > target:\n",
    "            end = current\n",
    "        if list[current][1] < target:\n",
    "            start = current\n",
    "        current = (start + end) // 2"
   ]
  },
  {
   "cell_type": "code",
   "execution_count": null,
   "metadata": {},
   "outputs": [],
   "source": [
    "from bisect import bisect_left, bisect_right\n",
    "a, b = search('tijgmcndzubelfhorxwqkpsavy', list)\n",
    "print(\"{} cycles : {}\".format(a, b))\n",
    "print(\"bisect :\", list[bisect_left([item[1] for item in list], 'tijgmcndzubelfhorxwqkpsavy')])"
   ]
  },
  {
   "cell_type": "markdown",
   "metadata": {},
   "source": [
    "- 유클리드 호제법, 에라토스테네스의 체, 이분법\n",
    "- precondition, postcondition, base, inductive"
   ]
  },
  {
   "cell_type": "code",
   "execution_count": null,
   "metadata": {},
   "outputs": [],
   "source": []
  }
 ],
 "metadata": {
  "kernelspec": {
   "display_name": "base",
   "language": "python",
   "name": "python3"
  },
  "language_info": {
   "codemirror_mode": {
    "name": "ipython",
    "version": 3
   },
   "file_extension": ".py",
   "mimetype": "text/x-python",
   "name": "python",
   "nbconvert_exporter": "python",
   "pygments_lexer": "ipython3",
   "version": "3.11.5"
  }
 },
 "nbformat": 4,
 "nbformat_minor": 2
}
